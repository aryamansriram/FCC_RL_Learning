{
  "nbformat": 4,
  "nbformat_minor": 0,
  "metadata": {
    "colab": {
      "name": "Q* Learning with FrozenLakev2.ipynb",
      "version": "0.3.2",
      "provenance": []
    },
    "kernelspec": {
      "name": "python3",
      "display_name": "Python 3"
    }
  },
  "cells": [
    {
      "cell_type": "markdown",
      "metadata": {
        "id": "5aQKQMJTJBPH",
        "colab_type": "text"
      },
      "source": [
        "# Q* Learning with FrozenLake 4x4 \n",
        "\n",
        "In this Notebook, we'll implement an agent <b>that plays FrozenLake.</b>\n",
        "\n",
        "![alt text](http://simoninithomas.com/drlc/Qlearning/frozenlake4x4.png)\n",
        "\n",
        "The goal of this game is <b>to go from the starting state (S) to the goal state (G)</b> by walking only on frozen tiles (F) and avoid holes (H). However, the ice is slippery, **so you won't always move in the direction you intend (stochastic environment)**\n",
        "\n",
        "Thanks to [lukewys](https://github.com/lukewys) for his help"
      ]
    },
    {
      "cell_type": "markdown",
      "metadata": {
        "id": "QK8fD0zAQkkg",
        "colab_type": "text"
      },
      "source": [
        "## Prerequisites 🏗️\n",
        "Before diving on the notebook **you need to understand**:\n",
        "- The foundations of Reinforcement learning (MC, TD, Rewards hypothesis...) [Article](https://medium.freecodecamp.org/an-introduction-to-reinforcement-learning-4339519de419)\n",
        "- Q-learning [Article](https://medium.freecodecamp.org/diving-deeper-into-reinforcement-learning-with-q-learning-c18d0db58efe)\n",
        "- In the [video version](https://www.youtube.com/watch?v=q2ZOEFAaaI0)  we implemented a Q-learning agent that learns to play OpenAI Taxi-v2 🚕 with Numpy."
      ]
    },
    {
      "cell_type": "markdown",
      "metadata": {
        "id": "Xr9nI6dcQM8I",
        "colab_type": "text"
      },
      "source": [
        "# This is a notebook from [Deep Reinforcement Learning Course, new version](https://simoninithomas.github.io/Deep_reinforcement_learning_Course/)\n",
        "<img src=\"https://raw.githubusercontent.com/simoninithomas/Deep_reinforcement_learning_Course/master/docs/assets/img/DRLC%20Environments.png\" alt=\"Deep Reinforcement Course\"/>\n",
        "<br>\n",
        "<p>  Deep Reinforcement Learning Course is a free series of articles and videos tutorials 🆕 about Deep Reinforcement Learning, where **we'll learn the main algorithms (Q-learning, Deep Q Nets, Dueling Deep Q Nets, Policy Gradients, A2C, Proximal Policy Gradients, Prediction Based rewards agents…), and how to implement them with Tensorflow and PyTorch.**\n",
        "\n",
        "  ![alt text](http://simoninithomas.com/drlc/libraries.png)\n",
        "  \n",
        "  \n",
        "<br><br>\n",
        "    \n",
        "📜The articles explain the architectures from the big picture to the mathematical details behind them.\n",
        "<br>\n",
        "📹 The videos explain how to build the agents with Tensorflow </b></p>\n",
        "<br>\n",
        "This course will give you a **solid foundation for understanding and implementing the future state of the art algorithms**. And, you'll build a strong professional portfolio by creating **agents that learn to play awesome environments**: Doom© 👹, Space invaders 👾, Outrun, Sonic the Hedgehog©, Michael Jackson’s Moonwalker, agents that will be able to navigate in 3D environments with DeepMindLab (Quake) and able to walk with Mujoco. \n",
        "<br><br>\n",
        "</p> \n",
        "\n",
        "## 📚 The complete [Syllabus HERE](https://simoninithomas.github.io/Deep_reinforcement_learning_Course/)\n",
        "\n",
        "\n",
        "## Any questions 👨‍💻\n",
        "<p> If you have any questions, feel free to ask me: </p>\n",
        "<p> 📧: <a href=\"mailto:hello@simoninithomas.com\">hello@simoninithomas.com</a>  </p>\n",
        "<p> Github: https://github.com/simoninithomas/Deep_reinforcement_learning_Course </p>\n",
        "<p> 🌐 : https://simoninithomas.github.io/Deep_reinforcement_learning_Course/ </p>\n",
        "<p> Twitter: <a href=\"https://twitter.com/ThomasSimonini\">@ThomasSimonini</a> </p>\n",
        "<p> Don't forget to <b> follow me on <a href=\"https://twitter.com/ThomasSimonini\">twitter</a>, <a href=\"https://github.com/simoninithomas/Deep_reinforcement_learning_Course\">github</a> and <a href=\"https://medium.com/@thomassimonini\">Medium</a> to be alerted of the new articles that I publish </b></p>\n",
        "    \n",
        "## How to help  🙌\n",
        "3 ways:\n",
        "- **Clap our articles and like our videos a lot**:Clapping in Medium means that you really like our articles. And the more claps we have, the more our article is shared Liking our videos help them to be much more visible to the deep learning community.\n",
        "- **Share and speak about our articles and videos**: By sharing our articles and videos you help us to spread the word. \n",
        "- **Improve our notebooks**: if you found a bug or **a better implementation** you can send a pull request.\n",
        "<br>\n",
        "\n",
        "## Important note 🤔\n",
        "<b> You can run it on your computer but it's better to run it on GPU based services</b>, personally I use Microsoft Azure and their Deep Learning Virtual Machine (they offer 170$)\n",
        "https://azuremarketplace.microsoft.com/en-us/marketplace/apps/microsoft-ads.dsvm-deep-learning\n",
        "<br>\n",
        "⚠️ I don't have any business relations with them. I just loved their excellent customer service.\n",
        "\n",
        "If you have some troubles to use Microsoft Azure follow the explainations of this excellent article here (without last the part fast.ai): https://medium.com/@manikantayadunanda/setting-up-deeplearning-machine-and-fast-ai-on-azure-a22eb6bd6429"
      ]
    },
    {
      "cell_type": "markdown",
      "metadata": {
        "id": "54AIvDov_7aa",
        "colab_type": "text"
      },
      "source": [
        "## Step -1: Install the dependencies on Google Colab"
      ]
    },
    {
      "cell_type": "code",
      "metadata": {
        "id": "gxxpHDIs_lvg",
        "colab_type": "code",
        "outputId": "3f35435d-1691-4125-9e8b-d8ea8e8fd4df",
        "colab": {
          "base_uri": "https://localhost:8080/",
          "height": 225
        }
      },
      "source": [
        "!pip install numpy\n",
        "!pip install gym"
      ],
      "execution_count": 2,
      "outputs": [
        {
          "output_type": "stream",
          "text": [
            "Requirement already satisfied: numpy in /usr/local/lib/python3.6/dist-packages (1.16.3)\n",
            "Requirement already satisfied: gym in /usr/local/lib/python3.6/dist-packages (0.10.11)\n",
            "Requirement already satisfied: requests>=2.0 in /usr/local/lib/python3.6/dist-packages (from gym) (2.21.0)\n",
            "Requirement already satisfied: pyglet>=1.2.0 in /usr/local/lib/python3.6/dist-packages (from gym) (1.3.2)\n",
            "Requirement already satisfied: six in /usr/local/lib/python3.6/dist-packages (from gym) (1.12.0)\n",
            "Requirement already satisfied: scipy in /usr/local/lib/python3.6/dist-packages (from gym) (1.3.0)\n",
            "Requirement already satisfied: numpy>=1.10.4 in /usr/local/lib/python3.6/dist-packages (from gym) (1.16.3)\n",
            "Requirement already satisfied: certifi>=2017.4.17 in /usr/local/lib/python3.6/dist-packages (from requests>=2.0->gym) (2019.3.9)\n",
            "Requirement already satisfied: urllib3<1.25,>=1.21.1 in /usr/local/lib/python3.6/dist-packages (from requests>=2.0->gym) (1.24.3)\n",
            "Requirement already satisfied: idna<2.9,>=2.5 in /usr/local/lib/python3.6/dist-packages (from requests>=2.0->gym) (2.8)\n",
            "Requirement already satisfied: chardet<3.1.0,>=3.0.2 in /usr/local/lib/python3.6/dist-packages (from requests>=2.0->gym) (3.0.4)\n",
            "Requirement already satisfied: future in /usr/local/lib/python3.6/dist-packages (from pyglet>=1.2.0->gym) (0.16.0)\n"
          ],
          "name": "stdout"
        }
      ]
    },
    {
      "cell_type": "markdown",
      "metadata": {
        "id": "G9qH33L_QoBk",
        "colab_type": "text"
      },
      "source": [
        "## Step 0: Import the dependencies 📚\n",
        "We use 3 libraries:\n",
        "- `Numpy` for our Qtable\n",
        "- `OpenAI Gym` for our FrozenLake Environment\n",
        "- `Random` to generate random numbers"
      ]
    },
    {
      "cell_type": "code",
      "metadata": {
        "id": "oU8zRXv8QHlm",
        "colab_type": "code",
        "colab": {}
      },
      "source": [
        "import numpy as np\n",
        "import gym\n",
        "import random"
      ],
      "execution_count": 0,
      "outputs": []
    },
    {
      "cell_type": "markdown",
      "metadata": {
        "id": "0fz-X3HTQueX",
        "colab_type": "text"
      },
      "source": [
        "## Step 1: Create the environment 🎮\n",
        "- Here we'll create the FrozenLake 8x8 environment. \n",
        "- OpenAI Gym is a library <b> composed of many environments that we can use to train our agents.</b>\n",
        "- In our case we choose to use Frozen Lake."
      ]
    },
    {
      "cell_type": "code",
      "metadata": {
        "id": "0pVMyaVIQF5C",
        "colab_type": "code",
        "colab": {}
      },
      "source": [
        "from gym.envs.registration import register\n",
        "register(\n",
        "    id='FrozenLakeNotSlippery-v0',\n",
        "    entry_point='gym.envs.toy_text:FrozenLakeEnv',\n",
        "    kwargs={'map_name' : '8x8', 'is_slippery': False},\n",
        "    max_episode_steps=100,\n",
        "    reward_threshold=0.8196, # optimum = .8196, changing this seems have no influence\n",
        ")"
      ],
      "execution_count": 0,
      "outputs": []
    },
    {
      "cell_type": "code",
      "metadata": {
        "id": "mh9jBR_cQ5_a",
        "colab_type": "code",
        "colab": {}
      },
      "source": [
        "env = gym.make(\"FrozenLakeNotSlippery-v0\")"
      ],
      "execution_count": 0,
      "outputs": []
    },
    {
      "cell_type": "markdown",
      "metadata": {
        "id": "JEtXMldxQ7uw",
        "colab_type": "text"
      },
      "source": [
        "## Step 2: Create the Q-table and initialize it 🗄️\n",
        "- Now, we'll create our Q-table, to know how much rows (states) and columns (actions) we need, we need to calculate the action_size and the state_size\n",
        "- OpenAI Gym provides us a way to do that: `env.action_space.n` and `env.observation_space.n`"
      ]
    },
    {
      "cell_type": "code",
      "metadata": {
        "id": "Uc0xDVd_Q-C8",
        "colab_type": "code",
        "colab": {
          "base_uri": "https://localhost:8080/",
          "height": 173
        },
        "outputId": "e64e924e-71da-4692-adce-433ace38e4df"
      },
      "source": [
        "env.render()"
      ],
      "execution_count": 6,
      "outputs": [
        {
          "output_type": "stream",
          "text": [
            "\n",
            "\u001b[41mS\u001b[0mFFFFFFF\n",
            "FFFFFFFF\n",
            "FFFHFFFF\n",
            "FFFFFHFF\n",
            "FFFHFFFF\n",
            "FHHFFFHF\n",
            "FHFFHFHF\n",
            "FFFHFFFG\n"
          ],
          "name": "stdout"
        }
      ]
    },
    {
      "cell_type": "code",
      "metadata": {
        "id": "vmea0JOQOCi8",
        "colab_type": "code",
        "colab": {}
      },
      "source": [
        "action_size = env.action_space.n\n",
        "state_size = env.observation_space.n"
      ],
      "execution_count": 0,
      "outputs": []
    },
    {
      "cell_type": "code",
      "metadata": {
        "id": "Q2T9ie4iOO-z",
        "colab_type": "code",
        "colab": {
          "base_uri": "https://localhost:8080/",
          "height": 34
        },
        "outputId": "c73835ed-173d-4c93-bc54-f18e4e141d23"
      },
      "source": [
        "action_size"
      ],
      "execution_count": 12,
      "outputs": [
        {
          "output_type": "execute_result",
          "data": {
            "text/plain": [
              "4"
            ]
          },
          "metadata": {
            "tags": []
          },
          "execution_count": 12
        }
      ]
    },
    {
      "cell_type": "code",
      "metadata": {
        "id": "lBzSVyL4Oe0P",
        "colab_type": "code",
        "colab": {
          "base_uri": "https://localhost:8080/",
          "height": 34
        },
        "outputId": "73ee90d6-117a-4eb4-ff1e-ad6ae25760ae"
      },
      "source": [
        "state_size"
      ],
      "execution_count": 13,
      "outputs": [
        {
          "output_type": "execute_result",
          "data": {
            "text/plain": [
              "64"
            ]
          },
          "metadata": {
            "tags": []
          },
          "execution_count": 13
        }
      ]
    },
    {
      "cell_type": "code",
      "metadata": {
        "id": "McVuFtGfOhTi",
        "colab_type": "code",
        "colab": {}
      },
      "source": [
        "qtable = np.zeros((state_size,action_size))"
      ],
      "execution_count": 0,
      "outputs": []
    },
    {
      "cell_type": "code",
      "metadata": {
        "id": "MUwvAq3oQMBi",
        "colab_type": "code",
        "colab": {
          "base_uri": "https://localhost:8080/",
          "height": 1128
        },
        "outputId": "e51ab4a5-fb57-45bd-da04-ea1765f65827"
      },
      "source": [
        "qtable"
      ],
      "execution_count": 16,
      "outputs": [
        {
          "output_type": "execute_result",
          "data": {
            "text/plain": [
              "array([[0., 0., 0., 0.],\n",
              "       [0., 0., 0., 0.],\n",
              "       [0., 0., 0., 0.],\n",
              "       [0., 0., 0., 0.],\n",
              "       [0., 0., 0., 0.],\n",
              "       [0., 0., 0., 0.],\n",
              "       [0., 0., 0., 0.],\n",
              "       [0., 0., 0., 0.],\n",
              "       [0., 0., 0., 0.],\n",
              "       [0., 0., 0., 0.],\n",
              "       [0., 0., 0., 0.],\n",
              "       [0., 0., 0., 0.],\n",
              "       [0., 0., 0., 0.],\n",
              "       [0., 0., 0., 0.],\n",
              "       [0., 0., 0., 0.],\n",
              "       [0., 0., 0., 0.],\n",
              "       [0., 0., 0., 0.],\n",
              "       [0., 0., 0., 0.],\n",
              "       [0., 0., 0., 0.],\n",
              "       [0., 0., 0., 0.],\n",
              "       [0., 0., 0., 0.],\n",
              "       [0., 0., 0., 0.],\n",
              "       [0., 0., 0., 0.],\n",
              "       [0., 0., 0., 0.],\n",
              "       [0., 0., 0., 0.],\n",
              "       [0., 0., 0., 0.],\n",
              "       [0., 0., 0., 0.],\n",
              "       [0., 0., 0., 0.],\n",
              "       [0., 0., 0., 0.],\n",
              "       [0., 0., 0., 0.],\n",
              "       [0., 0., 0., 0.],\n",
              "       [0., 0., 0., 0.],\n",
              "       [0., 0., 0., 0.],\n",
              "       [0., 0., 0., 0.],\n",
              "       [0., 0., 0., 0.],\n",
              "       [0., 0., 0., 0.],\n",
              "       [0., 0., 0., 0.],\n",
              "       [0., 0., 0., 0.],\n",
              "       [0., 0., 0., 0.],\n",
              "       [0., 0., 0., 0.],\n",
              "       [0., 0., 0., 0.],\n",
              "       [0., 0., 0., 0.],\n",
              "       [0., 0., 0., 0.],\n",
              "       [0., 0., 0., 0.],\n",
              "       [0., 0., 0., 0.],\n",
              "       [0., 0., 0., 0.],\n",
              "       [0., 0., 0., 0.],\n",
              "       [0., 0., 0., 0.],\n",
              "       [0., 0., 0., 0.],\n",
              "       [0., 0., 0., 0.],\n",
              "       [0., 0., 0., 0.],\n",
              "       [0., 0., 0., 0.],\n",
              "       [0., 0., 0., 0.],\n",
              "       [0., 0., 0., 0.],\n",
              "       [0., 0., 0., 0.],\n",
              "       [0., 0., 0., 0.],\n",
              "       [0., 0., 0., 0.],\n",
              "       [0., 0., 0., 0.],\n",
              "       [0., 0., 0., 0.],\n",
              "       [0., 0., 0., 0.],\n",
              "       [0., 0., 0., 0.],\n",
              "       [0., 0., 0., 0.],\n",
              "       [0., 0., 0., 0.],\n",
              "       [0., 0., 0., 0.]])"
            ]
          },
          "metadata": {
            "tags": []
          },
          "execution_count": 16
        }
      ]
    },
    {
      "cell_type": "code",
      "metadata": {
        "id": "6oeEKjU-QRjY",
        "colab_type": "code",
        "colab": {}
      },
      "source": [
        "total_episodes = 50000        # Total (episodes\n",
        "total_test_episodes = 100     # Total test episodes\n",
        "max_steps = 99                # Max steps per episode\n",
        "\n",
        "learning_rate = 0.7           # Learning rate\n",
        "gamma = 0.618                 # Discounting rate\n",
        "\n",
        "# Exploration parameters\n",
        "epsilon = 1.0                 # Exploration rate\n",
        "max_epsilon = 1.0             # Exploration probability at start\n",
        "min_epsilon = 0.01            # Minimum exploration probability \n",
        "decay_rate = 0.01             # Exponential decay rate for exploration prob\n"
      ],
      "execution_count": 0,
      "outputs": []
    },
    {
      "cell_type": "code",
      "metadata": {
        "id": "jJKt7BPbQbr3",
        "colab_type": "code",
        "colab": {}
      },
      "source": [
        "for i in range(total_episodes):\n",
        "  #Reset the environment\n",
        "  \n",
        "  state = env.reset()\n",
        "  step = 0\n",
        "  done = False\n",
        "  \n",
        "  \n",
        "  for step in range(max_steps):\n",
        "    #Set the exploration exploitation tradeoff\n",
        "    expl_exp_tradeoff = random.uniform(0,1)\n",
        "    \n",
        "    #If the tradeoff is greater tha epsilon then don't explore i.e take the max qvalue action\n",
        "    if(expl_exp_tradeoff<epsilon):\n",
        "      action = np.argmax(qtable[state,:])\n",
        "    \n",
        "    #Else randomly explore the space\n",
        "    else:\n",
        "      action = env.action_space.sample()\n",
        "    \n",
        "    #Get new values\n",
        "    new_state,reward,done,info = env.step(action)\n",
        "    \n",
        "    #Bellman's equation\n",
        "    qtable[state,action] = qtable[state,action] + learning_rate*(reward+gamma*np.max(qtable[new_state,:]-qtable[state,action]))\n",
        "  \n",
        "    #Set the new state = old state  \n",
        "    state = new_state\n",
        "  \n",
        "    if(done ==True):\n",
        "      break\n",
        "    \n",
        "    #Reduce epsilon (because we need less and less exploration)\n",
        "    epsilon = min_epsilon + (max_epsilon - min_epsilon)*np.exp(-decay_rate*i)  \n",
        "    "
      ],
      "execution_count": 0,
      "outputs": []
    },
    {
      "cell_type": "code",
      "metadata": {
        "id": "xIHLBfy1aQ2q",
        "colab_type": "code",
        "colab": {
          "base_uri": "https://localhost:8080/",
          "height": 1128
        },
        "outputId": "7bf7410e-ce69-4f21-fb10-1d8480fa0133"
      },
      "source": [
        "qtable"
      ],
      "execution_count": 35,
      "outputs": [
        {
          "output_type": "execute_result",
          "data": {
            "text/plain": [
              "array([[1.61812298, 1.61812298, 1.61812298, 1.61812298],\n",
              "       [1.61812298, 1.61812298, 1.61812298, 1.61812298],\n",
              "       [1.61812298, 1.61812298, 1.61812298, 1.61812298],\n",
              "       [1.61812298, 1.61812298, 1.61812298, 1.61812298],\n",
              "       [1.61812298, 1.61812298, 1.61812298, 1.61812298],\n",
              "       [1.61812298, 1.61812298, 1.61812298, 1.61812298],\n",
              "       [1.61812298, 1.61812298, 1.61812298, 1.61812298],\n",
              "       [1.61812298, 1.61812298, 1.61812298, 1.61812298],\n",
              "       [1.61812298, 1.61812298, 1.61812298, 1.61812298],\n",
              "       [1.61812298, 1.61812298, 1.61812298, 1.61812298],\n",
              "       [1.61812298, 1.61812298, 1.61812298, 1.61812298],\n",
              "       [1.61812298, 0.        , 1.61812298, 1.61812298],\n",
              "       [1.61812298, 1.61812298, 1.61812298, 1.61812298],\n",
              "       [1.61812298, 1.61812298, 1.61812298, 1.61812298],\n",
              "       [1.61812298, 1.61812298, 1.61812298, 1.61812298],\n",
              "       [1.61812298, 1.61812298, 1.61812298, 1.61812298],\n",
              "       [1.61812298, 1.61812298, 1.61812298, 1.61812298],\n",
              "       [1.61812298, 1.61812298, 1.61812298, 1.61812298],\n",
              "       [1.61812298, 1.61812298, 0.        , 1.61812298],\n",
              "       [0.        , 0.        , 0.        , 0.        ],\n",
              "       [0.        , 1.61812298, 1.61812298, 1.61812298],\n",
              "       [1.61812298, 0.        , 1.61812298, 1.61812298],\n",
              "       [1.61812298, 1.61812298, 1.61812298, 1.61812298],\n",
              "       [1.61812298, 1.61812298, 1.61812298, 1.61812298],\n",
              "       [1.61812298, 1.61812298, 1.61812298, 1.61812298],\n",
              "       [1.61812298, 1.61812298, 1.61812298, 1.61812298],\n",
              "       [1.61812298, 1.61812298, 1.61812298, 1.61812298],\n",
              "       [1.61812298, 0.        , 1.61812298, 0.        ],\n",
              "       [1.61812298, 1.61812298, 0.        , 1.61812298],\n",
              "       [0.        , 0.        , 0.        , 0.        ],\n",
              "       [0.        , 1.61812298, 1.61812298, 1.61812298],\n",
              "       [1.61812298, 1.61812298, 1.61812298, 1.61812298],\n",
              "       [1.61812298, 1.61812298, 1.61812298, 1.61812298],\n",
              "       [1.61812298, 0.        , 1.61812298, 1.61812298],\n",
              "       [1.61812298, 0.        , 0.        , 1.61812298],\n",
              "       [0.        , 0.        , 0.        , 0.        ],\n",
              "       [0.        , 1.61812298, 1.61812298, 1.61812298],\n",
              "       [1.61812298, 1.61812298, 1.61812298, 0.        ],\n",
              "       [1.61812298, 0.        , 1.61812298, 1.61812298],\n",
              "       [1.61812298, 1.61812298, 1.61812298, 1.61812298],\n",
              "       [1.61812298, 1.61812298, 0.        , 1.61812298],\n",
              "       [0.        , 0.        , 0.        , 0.        ],\n",
              "       [0.        , 0.        , 0.        , 0.        ],\n",
              "       [0.        , 1.61803191, 1.61812296, 0.        ],\n",
              "       [1.61812294, 0.        , 1.61812298, 1.61812298],\n",
              "       [1.61812298, 1.6180511 , 0.        , 1.61812298],\n",
              "       [0.        , 0.        , 0.        , 0.        ],\n",
              "       [0.        , 1.61812298, 1.61812298, 1.61812298],\n",
              "       [1.61812298, 1.61812298, 0.        , 1.61812298],\n",
              "       [0.        , 0.        , 0.        , 0.        ],\n",
              "       [0.        , 1.61808149, 1.61537017, 0.        ],\n",
              "       [1.59510576, 0.        , 0.        , 1.61807891],\n",
              "       [0.        , 0.        , 0.        , 0.        ],\n",
              "       [0.        , 1.59425181, 0.        , 1.61809644],\n",
              "       [0.        , 0.        , 0.        , 0.        ],\n",
              "       [0.        , 1.61812298, 1.61812298, 1.61812298],\n",
              "       [1.61812298, 1.61812298, 1.61812298, 1.61812298],\n",
              "       [1.61812298, 1.61812298, 1.61812298, 0.        ],\n",
              "       [1.61812298, 1.61812298, 0.        , 1.6180737 ],\n",
              "       [0.        , 0.        , 0.        , 0.        ],\n",
              "       [0.        , 0.        , 0.68622255, 0.        ],\n",
              "       [0.29685987, 0.85949438, 1.14795488, 1.60774404],\n",
              "       [0.89078912, 0.        , 1.32253993, 0.        ],\n",
              "       [0.        , 0.        , 0.        , 0.        ]])"
            ]
          },
          "metadata": {
            "tags": []
          },
          "execution_count": 35
        }
      ]
    },
    {
      "cell_type": "code",
      "metadata": {
        "id": "8ut_ufvgSHVK",
        "colab_type": "code",
        "colab": {
          "base_uri": "https://localhost:8080/",
          "height": 2761
        },
        "outputId": "17e277e3-5e31-4999-c64b-90d2001424e1"
      },
      "source": [
        "\n",
        "\n",
        "\n",
        "env.reset()\n",
        "\n",
        "total_rewards = 0\n",
        "for episode in range(1):\n",
        "  state = env.reset()\n",
        "  done = False\n",
        " \n",
        "  print(\"**********************\\n\")\n",
        "  print(\":::::::EPISODE\",episode,\"::::::::\\n\")\n",
        "  for step in range(max_steps):\n",
        "    env.render()\n",
        "    action = np.argmax(qtable[state,:])\n",
        "    \n",
        "    new_state,reward,done,info = env.step(action)\n",
        "    total_rewards+=reward\n",
        "    print(action)\n",
        "    if(done):\n",
        "      break\n",
        "    state = new_state\n",
        "    print(reward)\n",
        "env.close()\n",
        "\n",
        "print(\"REWARD: \",total_rewards)\n",
        "  \n",
        "  \n",
        "  "
      ],
      "execution_count": 40,
      "outputs": [
        {
          "output_type": "stream",
          "text": [
            "**********************\n",
            "\n",
            ":::::::EPISODE 0 ::::::::\n",
            "\n",
            "\n",
            "\u001b[41mS\u001b[0mFFFFFFF\n",
            "FFFFFFFF\n",
            "FFFHFFFF\n",
            "FFFFFHFF\n",
            "FFFHFFFF\n",
            "FHHFFFHF\n",
            "FHFFHFHF\n",
            "FFFHFFFG\n",
            "1\n",
            "0.0\n",
            "  (Down)\n",
            "SFFFFFFF\n",
            "\u001b[41mF\u001b[0mFFFFFFF\n",
            "FFFHFFFF\n",
            "FFFFFHFF\n",
            "FFFHFFFF\n",
            "FHHFFFHF\n",
            "FHFFHFHF\n",
            "FFFHFFFG\n",
            "1\n",
            "0.0\n",
            "  (Down)\n",
            "SFFFFFFF\n",
            "FFFFFFFF\n",
            "\u001b[41mF\u001b[0mFFHFFFF\n",
            "FFFFFHFF\n",
            "FFFHFFFF\n",
            "FHHFFFHF\n",
            "FHFFHFHF\n",
            "FFFHFFFG\n",
            "1\n",
            "0.0\n",
            "  (Down)\n",
            "SFFFFFFF\n",
            "FFFFFFFF\n",
            "FFFHFFFF\n",
            "\u001b[41mF\u001b[0mFFFFHFF\n",
            "FFFHFFFF\n",
            "FHHFFFHF\n",
            "FHFFHFHF\n",
            "FFFHFFFG\n",
            "2\n",
            "0.0\n",
            "  (Right)\n",
            "SFFFFFFF\n",
            "FFFFFFFF\n",
            "FFFHFFFF\n",
            "F\u001b[41mF\u001b[0mFFFHFF\n",
            "FFFHFFFF\n",
            "FHHFFFHF\n",
            "FHFFHFHF\n",
            "FFFHFFFG\n",
            "2\n",
            "0.0\n",
            "  (Right)\n",
            "SFFFFFFF\n",
            "FFFFFFFF\n",
            "FFFHFFFF\n",
            "FF\u001b[41mF\u001b[0mFFHFF\n",
            "FFFHFFFF\n",
            "FHHFFFHF\n",
            "FHFFHFHF\n",
            "FFFHFFFG\n",
            "2\n",
            "0.0\n",
            "  (Right)\n",
            "SFFFFFFF\n",
            "FFFFFFFF\n",
            "FFFHFFFF\n",
            "FFF\u001b[41mF\u001b[0mFHFF\n",
            "FFFHFFFF\n",
            "FHHFFFHF\n",
            "FHFFHFHF\n",
            "FFFHFFFG\n",
            "2\n",
            "0.0\n",
            "  (Right)\n",
            "SFFFFFFF\n",
            "FFFFFFFF\n",
            "FFFHFFFF\n",
            "FFFF\u001b[41mF\u001b[0mHFF\n",
            "FFFHFFFF\n",
            "FHHFFFHF\n",
            "FHFFHFHF\n",
            "FFFHFFFG\n",
            "1\n",
            "0.0\n",
            "  (Down)\n",
            "SFFFFFFF\n",
            "FFFFFFFF\n",
            "FFFHFFFF\n",
            "FFFFFHFF\n",
            "FFFH\u001b[41mF\u001b[0mFFF\n",
            "FHHFFFHF\n",
            "FHFFHFHF\n",
            "FFFHFFFG\n",
            "2\n",
            "0.0\n",
            "  (Right)\n",
            "SFFFFFFF\n",
            "FFFFFFFF\n",
            "FFFHFFFF\n",
            "FFFFFHFF\n",
            "FFFHF\u001b[41mF\u001b[0mFF\n",
            "FHHFFFHF\n",
            "FHFFHFHF\n",
            "FFFHFFFG\n",
            "2\n",
            "0.0\n",
            "  (Right)\n",
            "SFFFFFFF\n",
            "FFFFFFFF\n",
            "FFFHFFFF\n",
            "FFFFFHFF\n",
            "FFFHFF\u001b[41mF\u001b[0mF\n",
            "FHHFFFHF\n",
            "FHFFHFHF\n",
            "FFFHFFFG\n",
            "2\n",
            "0.0\n",
            "  (Right)\n",
            "SFFFFFFF\n",
            "FFFFFFFF\n",
            "FFFHFFFF\n",
            "FFFFFHFF\n",
            "FFFHFFF\u001b[41mF\u001b[0m\n",
            "FHHFFFHF\n",
            "FHFFHFHF\n",
            "FFFHFFFG\n",
            "1\n",
            "0.0\n",
            "  (Down)\n",
            "SFFFFFFF\n",
            "FFFFFFFF\n",
            "FFFHFFFF\n",
            "FFFFFHFF\n",
            "FFFHFFFF\n",
            "FHHFFFH\u001b[41mF\u001b[0m\n",
            "FHFFHFHF\n",
            "FFFHFFFG\n",
            "1\n",
            "0.0\n",
            "  (Down)\n",
            "SFFFFFFF\n",
            "FFFFFFFF\n",
            "FFFHFFFF\n",
            "FFFFFHFF\n",
            "FFFHFFFF\n",
            "FHHFFFHF\n",
            "FHFFHFH\u001b[41mF\u001b[0m\n",
            "FFFHFFFG\n",
            "1\n",
            "REWARD:  1.0\n"
          ],
          "name": "stdout"
        }
      ]
    },
    {
      "cell_type": "code",
      "metadata": {
        "id": "OVz5RVhsV5mQ",
        "colab_type": "code",
        "colab": {}
      },
      "source": [
        ""
      ],
      "execution_count": 0,
      "outputs": []
    },
    {
      "cell_type": "code",
      "metadata": {
        "id": "QAkmSdedZuc5",
        "colab_type": "code",
        "colab": {}
      },
      "source": [
        ""
      ],
      "execution_count": 0,
      "outputs": []
    }
  ]
}